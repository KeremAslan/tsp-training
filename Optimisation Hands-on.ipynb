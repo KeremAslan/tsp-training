{
 "cells": [
  {
   "cell_type": "markdown",
   "metadata": {},
   "source": [
    "# Optimisation Hands-On"
   ]
  },
  {
   "cell_type": "markdown",
   "metadata": {},
   "source": [
    "This notebook is part of a training session on implementing meta-heuristic techniques to solve optimisation problems, in this case the Traveling Salesman problem."
   ]
  },
  {
   "cell_type": "code",
   "execution_count": 2,
   "metadata": {},
   "outputs": [],
   "source": [
    "import pandas as pd\n",
    "import numpy as np\n",
    "import matplotlib.pyplot as plt\n",
    "import seaborn as sns\n",
    "import scipy as sp"
   ]
  },
  {
   "cell_type": "code",
   "execution_count": 3,
   "metadata": {},
   "outputs": [
    {
     "data": {
      "text/html": [
       "<div>\n",
       "<style scoped>\n",
       "    .dataframe tbody tr th:only-of-type {\n",
       "        vertical-align: middle;\n",
       "    }\n",
       "\n",
       "    .dataframe tbody tr th {\n",
       "        vertical-align: top;\n",
       "    }\n",
       "\n",
       "    .dataframe thead th {\n",
       "        text-align: right;\n",
       "    }\n",
       "</style>\n",
       "<table border=\"1\" class=\"dataframe\">\n",
       "  <thead>\n",
       "    <tr style=\"text-align: right;\">\n",
       "      <th></th>\n",
       "      <th>NAME : wi29</th>\n",
       "    </tr>\n",
       "  </thead>\n",
       "  <tbody>\n",
       "    <tr>\n",
       "      <th>0</th>\n",
       "      <td>COMMENT : 29 locations in Western Sahara</td>\n",
       "    </tr>\n",
       "    <tr>\n",
       "      <th>1</th>\n",
       "      <td>COMMENT : Derived from National Imagery and Ma...</td>\n",
       "    </tr>\n",
       "    <tr>\n",
       "      <th>2</th>\n",
       "      <td>TYPE : TSP</td>\n",
       "    </tr>\n",
       "    <tr>\n",
       "      <th>3</th>\n",
       "      <td>DIMENSION : 29</td>\n",
       "    </tr>\n",
       "    <tr>\n",
       "      <th>4</th>\n",
       "      <td>EDGE_WEIGHT_TYPE : EUC_2D</td>\n",
       "    </tr>\n",
       "    <tr>\n",
       "      <th>5</th>\n",
       "      <td>NODE_COORD_SECTION</td>\n",
       "    </tr>\n",
       "    <tr>\n",
       "      <th>6</th>\n",
       "      <td>1 20833.3333 17100.0000</td>\n",
       "    </tr>\n",
       "    <tr>\n",
       "      <th>7</th>\n",
       "      <td>2 20900.0000 17066.6667</td>\n",
       "    </tr>\n",
       "    <tr>\n",
       "      <th>8</th>\n",
       "      <td>3 21300.0000 13016.6667</td>\n",
       "    </tr>\n",
       "    <tr>\n",
       "      <th>9</th>\n",
       "      <td>4 21600.0000 14150.0000</td>\n",
       "    </tr>\n",
       "  </tbody>\n",
       "</table>\n",
       "</div>"
      ],
      "text/plain": [
       "                                         NAME : wi29\n",
       "0           COMMENT : 29 locations in Western Sahara\n",
       "1  COMMENT : Derived from National Imagery and Ma...\n",
       "2                                         TYPE : TSP\n",
       "3                                     DIMENSION : 29\n",
       "4                          EDGE_WEIGHT_TYPE : EUC_2D\n",
       "5                                 NODE_COORD_SECTION\n",
       "6                            1 20833.3333 17100.0000\n",
       "7                            2 20900.0000 17066.6667\n",
       "8                            3 21300.0000 13016.6667\n",
       "9                            4 21600.0000 14150.0000"
      ]
     },
     "execution_count": 3,
     "metadata": {},
     "output_type": "execute_result"
    }
   ],
   "source": [
    "file = \"http://www.math.uwaterloo.ca/tsp/world/wi29.tsp\"\n",
    "raw_dataset = pd.read_csv(file, sep=\"\\t\")\n",
    "raw_dataset.head(10)"
   ]
  },
  {
   "cell_type": "code",
   "execution_count": 4,
   "metadata": {},
   "outputs": [
    {
     "data": {
      "text/html": [
       "<div>\n",
       "<style scoped>\n",
       "    .dataframe tbody tr th:only-of-type {\n",
       "        vertical-align: middle;\n",
       "    }\n",
       "\n",
       "    .dataframe tbody tr th {\n",
       "        vertical-align: top;\n",
       "    }\n",
       "\n",
       "    .dataframe thead th {\n",
       "        text-align: right;\n",
       "    }\n",
       "</style>\n",
       "<table border=\"1\" class=\"dataframe\">\n",
       "  <thead>\n",
       "    <tr style=\"text-align: right;\">\n",
       "      <th></th>\n",
       "      <th>NAME : wi29</th>\n",
       "    </tr>\n",
       "  </thead>\n",
       "  <tbody>\n",
       "    <tr>\n",
       "      <th>31</th>\n",
       "      <td>26 27233.3333 11783.3333</td>\n",
       "    </tr>\n",
       "    <tr>\n",
       "      <th>32</th>\n",
       "      <td>27 27266.6667 10383.3333</td>\n",
       "    </tr>\n",
       "    <tr>\n",
       "      <th>33</th>\n",
       "      <td>28 27433.3333 12400.0000</td>\n",
       "    </tr>\n",
       "    <tr>\n",
       "      <th>34</th>\n",
       "      <td>29 27462.5000 12992.2222</td>\n",
       "    </tr>\n",
       "    <tr>\n",
       "      <th>35</th>\n",
       "      <td>EOF</td>\n",
       "    </tr>\n",
       "  </tbody>\n",
       "</table>\n",
       "</div>"
      ],
      "text/plain": [
       "                 NAME : wi29\n",
       "31  26 27233.3333 11783.3333\n",
       "32  27 27266.6667 10383.3333\n",
       "33  28 27433.3333 12400.0000\n",
       "34  29 27462.5000 12992.2222\n",
       "35                       EOF"
      ]
     },
     "execution_count": 4,
     "metadata": {},
     "output_type": "execute_result"
    }
   ],
   "source": [
    "raw_dataset.tail()"
   ]
  },
  {
   "cell_type": "markdown",
   "metadata": {},
   "source": [
    "## Data cleaning"
   ]
  },
  {
   "cell_type": "markdown",
   "metadata": {},
   "source": [
    "Our dataset is not very clean (which is almost always the case), so let's clean this up. A line like `1 20833.3333 17100.0000` is the actual data we are interested in, the `1` is the `city_id`, the second number `20833.3333` and the last number `17100.000` are the `x` and `y`coordinates of the city. (In this dataset latitudes and longitudes are projected onto a 2d x-y plane). The first 6 rows is information about the dataset, so our data actually starts on row 7 (index `6`). "
   ]
  },
  {
   "cell_type": "code",
   "execution_count": 5,
   "metadata": {},
   "outputs": [
    {
     "data": {
      "text/html": [
       "<div>\n",
       "<style scoped>\n",
       "    .dataframe tbody tr th:only-of-type {\n",
       "        vertical-align: middle;\n",
       "    }\n",
       "\n",
       "    .dataframe tbody tr th {\n",
       "        vertical-align: top;\n",
       "    }\n",
       "\n",
       "    .dataframe thead th {\n",
       "        text-align: right;\n",
       "    }\n",
       "</style>\n",
       "<table border=\"1\" class=\"dataframe\">\n",
       "  <thead>\n",
       "    <tr style=\"text-align: right;\">\n",
       "      <th></th>\n",
       "      <th>raw_data</th>\n",
       "    </tr>\n",
       "  </thead>\n",
       "  <tbody>\n",
       "    <tr>\n",
       "      <th>6</th>\n",
       "      <td>1 20833.3333 17100.0000</td>\n",
       "    </tr>\n",
       "    <tr>\n",
       "      <th>7</th>\n",
       "      <td>2 20900.0000 17066.6667</td>\n",
       "    </tr>\n",
       "    <tr>\n",
       "      <th>8</th>\n",
       "      <td>3 21300.0000 13016.6667</td>\n",
       "    </tr>\n",
       "    <tr>\n",
       "      <th>9</th>\n",
       "      <td>4 21600.0000 14150.0000</td>\n",
       "    </tr>\n",
       "    <tr>\n",
       "      <th>10</th>\n",
       "      <td>5 21600.0000 14966.6667</td>\n",
       "    </tr>\n",
       "  </tbody>\n",
       "</table>\n",
       "</div>"
      ],
      "text/plain": [
       "                   raw_data\n",
       "6   1 20833.3333 17100.0000\n",
       "7   2 20900.0000 17066.6667\n",
       "8   3 21300.0000 13016.6667\n",
       "9   4 21600.0000 14150.0000\n",
       "10  5 21600.0000 14966.6667"
      ]
     },
     "execution_count": 5,
     "metadata": {},
     "output_type": "execute_result"
    }
   ],
   "source": [
    "tsp_dataset = pd.DataFrame(raw_dataset.loc[6:, raw_dataset.columns[0]])\n",
    "tsp_dataset.columns = [\"raw_data\"]\n",
    "tsp_dataset.drop(35, inplace=True) #is EOF (end of file) - we don't need this in our dataset\n",
    "tsp_dataset.head()"
   ]
  },
  {
   "cell_type": "code",
   "execution_count": 6,
   "metadata": {},
   "outputs": [
    {
     "data": {
      "text/html": [
       "<div>\n",
       "<style scoped>\n",
       "    .dataframe tbody tr th:only-of-type {\n",
       "        vertical-align: middle;\n",
       "    }\n",
       "\n",
       "    .dataframe tbody tr th {\n",
       "        vertical-align: top;\n",
       "    }\n",
       "\n",
       "    .dataframe thead th {\n",
       "        text-align: right;\n",
       "    }\n",
       "</style>\n",
       "<table border=\"1\" class=\"dataframe\">\n",
       "  <thead>\n",
       "    <tr style=\"text-align: right;\">\n",
       "      <th></th>\n",
       "      <th>raw_data</th>\n",
       "    </tr>\n",
       "  </thead>\n",
       "  <tbody>\n",
       "    <tr>\n",
       "      <th>30</th>\n",
       "      <td>25 27233.3333 10450.0000</td>\n",
       "    </tr>\n",
       "    <tr>\n",
       "      <th>31</th>\n",
       "      <td>26 27233.3333 11783.3333</td>\n",
       "    </tr>\n",
       "    <tr>\n",
       "      <th>32</th>\n",
       "      <td>27 27266.6667 10383.3333</td>\n",
       "    </tr>\n",
       "    <tr>\n",
       "      <th>33</th>\n",
       "      <td>28 27433.3333 12400.0000</td>\n",
       "    </tr>\n",
       "    <tr>\n",
       "      <th>34</th>\n",
       "      <td>29 27462.5000 12992.2222</td>\n",
       "    </tr>\n",
       "  </tbody>\n",
       "</table>\n",
       "</div>"
      ],
      "text/plain": [
       "                    raw_data\n",
       "30  25 27233.3333 10450.0000\n",
       "31  26 27233.3333 11783.3333\n",
       "32  27 27266.6667 10383.3333\n",
       "33  28 27433.3333 12400.0000\n",
       "34  29 27462.5000 12992.2222"
      ]
     },
     "execution_count": 6,
     "metadata": {},
     "output_type": "execute_result"
    }
   ],
   "source": [
    "tsp_dataset.tail()"
   ]
  },
  {
   "cell_type": "code",
   "execution_count": 7,
   "metadata": {},
   "outputs": [],
   "source": [
    "def split_into_columns(row):\n",
    "    splitted = row.str.split(\" \").values # split returns series, values returns numpy array\n",
    "    splitted = splitted[0] # we want the list in the numpy array\n",
    "    # str.split returns a string, so while the values may seem numerical they are actually strings. We can convert them \n",
    "    # either now, or later. Let's do it now. \n",
    "    row[\"city_id\"] = int(splitted[0])\n",
    "    row[\"y\"] = float(splitted[1]) # mathematically latitude is x and longitude is y\n",
    "    row[\"x\"] = float(splitted[2])\n",
    "    del row[\"raw_data\"] # we don't need this column anymore\n",
    "    return row\n",
    "    \n",
    "    \n",
    "tsp_dataset = tsp_dataset.apply(lambda x: split_into_columns(x),axis=1)"
   ]
  },
  {
   "cell_type": "code",
   "execution_count": 8,
   "metadata": {},
   "outputs": [
    {
     "data": {
      "text/html": [
       "<div>\n",
       "<style scoped>\n",
       "    .dataframe tbody tr th:only-of-type {\n",
       "        vertical-align: middle;\n",
       "    }\n",
       "\n",
       "    .dataframe tbody tr th {\n",
       "        vertical-align: top;\n",
       "    }\n",
       "\n",
       "    .dataframe thead th {\n",
       "        text-align: right;\n",
       "    }\n",
       "</style>\n",
       "<table border=\"1\" class=\"dataframe\">\n",
       "  <thead>\n",
       "    <tr style=\"text-align: right;\">\n",
       "      <th></th>\n",
       "      <th>city_id</th>\n",
       "      <th>y</th>\n",
       "      <th>x</th>\n",
       "    </tr>\n",
       "  </thead>\n",
       "  <tbody>\n",
       "    <tr>\n",
       "      <th>6</th>\n",
       "      <td>1</td>\n",
       "      <td>20833.3333</td>\n",
       "      <td>17100.0000</td>\n",
       "    </tr>\n",
       "    <tr>\n",
       "      <th>7</th>\n",
       "      <td>2</td>\n",
       "      <td>20900.0000</td>\n",
       "      <td>17066.6667</td>\n",
       "    </tr>\n",
       "    <tr>\n",
       "      <th>8</th>\n",
       "      <td>3</td>\n",
       "      <td>21300.0000</td>\n",
       "      <td>13016.6667</td>\n",
       "    </tr>\n",
       "    <tr>\n",
       "      <th>9</th>\n",
       "      <td>4</td>\n",
       "      <td>21600.0000</td>\n",
       "      <td>14150.0000</td>\n",
       "    </tr>\n",
       "    <tr>\n",
       "      <th>10</th>\n",
       "      <td>5</td>\n",
       "      <td>21600.0000</td>\n",
       "      <td>14966.6667</td>\n",
       "    </tr>\n",
       "  </tbody>\n",
       "</table>\n",
       "</div>"
      ],
      "text/plain": [
       "    city_id           y           x\n",
       "6         1  20833.3333  17100.0000\n",
       "7         2  20900.0000  17066.6667\n",
       "8         3  21300.0000  13016.6667\n",
       "9         4  21600.0000  14150.0000\n",
       "10        5  21600.0000  14966.6667"
      ]
     },
     "execution_count": 8,
     "metadata": {},
     "output_type": "execute_result"
    }
   ],
   "source": [
    "tsp_dataset.head()"
   ]
  },
  {
   "cell_type": "markdown",
   "metadata": {},
   "source": [
    "We could technically reindex, but that is not necessary for what we are going to do next"
   ]
  },
  {
   "cell_type": "code",
   "execution_count": 9,
   "metadata": {},
   "outputs": [
    {
     "name": "stdout",
     "output_type": "stream",
     "text": [
      "<class 'pandas.core.frame.DataFrame'>\n",
      "Int64Index: 29 entries, 6 to 34\n",
      "Data columns (total 3 columns):\n",
      "city_id    29 non-null int64\n",
      "y          29 non-null float64\n",
      "x          29 non-null float64\n",
      "dtypes: float64(2), int64(1)\n",
      "memory usage: 928.0 bytes\n"
     ]
    }
   ],
   "source": [
    "tsp_dataset.info()"
   ]
  },
  {
   "cell_type": "markdown",
   "metadata": {},
   "source": [
    "Our columns are numerical, good!"
   ]
  },
  {
   "cell_type": "markdown",
   "metadata": {},
   "source": [
    "## Exploration\n",
    "Let's visualise our dataset"
   ]
  },
  {
   "cell_type": "code",
   "execution_count": 12,
   "metadata": {},
   "outputs": [
    {
     "data": {
      "image/png": "[encoded data removed]",
      "text/plain": [
       "<Figure size 720x504 with 1 Axes>"
      ]
     },
     "metadata": {
      "needs_background": "light"
     },
     "output_type": "display_data"
    }
   ],
   "source": [
    "fig, ax = plt.subplots(figsize=(10, 7))\n",
    "sns.regplot(data=tsp_dataset, x=\"x\", y=\"y\", fit_reg=False)\n",
    "plt.show()"
   ]
  },
  {
   "cell_type": "markdown",
   "metadata": {},
   "source": [
    "## Domain modeling\n",
    "Let's model our problem. We are solving the Traveling Salesman Problem. The aim is to visit every city in our dataset exactly once in one single tour that is the shortest overall route. We have 29 cities which gives us `29!` possible combinations for this problem. Trying every possible combination will take forever, even on moden computers. So we need a _smarter_ way to go about this problem. How we are going to model is as follows, we need a:\n",
    "\n",
    "* `City`: To hold any logic regarding a city. (In this problem it is just the x and y coordinate of the city, but in more sophisticated versions of this problem this could also be a time window for example).\n",
    "* `Route`: A route is a sequence of cities to be visited. We can model route modifications into this class.\n",
    "* `TspProblem`: We are trying to solve the tsp problem, this will be a representation of the problem and we can put all the logic to solve it into this class. \n",
    "* `ScoreCalculator`: We need to be able to calculate the shortest distance. To that end we will devise a score class that can compute the distance of any route. While this is not a must, it makes our code quite modular and we can put any logic to evaluate a solution on in this class. \n",
    "\n",
    "Note that according to our data source, the distance between two cities is the eucledian distance but rounded. \n",
    "```\n",
    "For these instances, the cost of travel between cities is specified by the Eulidean distance rounded to the nearest whole number (the TSPLIB EUC_2D-norm).\n",
    "```\n",
    "\n"
   ]
  },
  {
   "cell_type": "code",
   "execution_count": 21,
   "metadata": {},
   "outputs": [],
   "source": [
    "class City:\n",
    "    def __init__(self, city_id, x, y):\n",
    "        \"\"\"\n",
    "        This class is a representation of a city. It holds the city id, the x and y coordinates. \n",
    "        \n",
    "        :param city_id: int the city id\n",
    "        :param x: float, the x coordinate\n",
    "        :param y: float, the y coordinate\n",
    "        \"\"\"\n",
    "        self.id = int(city_id)\n",
    "        self.x = x\n",
    "        self.y = y\n",
    "    \n",
    "    def __repr__(self):\n",
    "        return str(self.x) + \", \" +  str(self.y)\n",
    "    \n",
    "        \n",
    "        \n",
    "class Route:\n",
    "    def __init__(self):\n",
    "        \"\"\"\n",
    "        This class is a representation of a route. It is a sequence of cities, to this end we will make use of a list.\n",
    "        \n",
    "        :param sequence: list, the route\n",
    "        \"\"\"\n",
    "        self.sequence = []\n",
    "        \n",
    "    def add(self, city):\n",
    "        \"\"\"\n",
    "        A convenience method to add a city to our route object.\n",
    "        \n",
    "        :param city: City, the city to add to the route\n",
    "        \"\"\"\n",
    "        self.sequence.append(city)\n",
    "    \n",
    "    def get_first_city(self):\n",
    "        return self.sequence[0]\n",
    "    \n",
    "    def get_last_city(self):\n",
    "        return self.sequence[len(self.sequence)-1]\n",
    "    \n",
    "    def swap(self):\n",
    "        raise NotImplementedError(\"This method is not yet implemented\")\n",
    "        \n",
    "    def copy(self):\n",
    "        \"\"\"\n",
    "        Copies the route\n",
    "        \"\"\"\n",
    "        route = Route()\n",
    "        for city in self.sequence:\n",
    "            route.add(city)\n",
    "        return route\n",
    "    \n",
    "    def score(self, scorer):\n",
    "        return scorer.score(self)\n",
    "        \n",
    "    \n",
    "class ScoreCalculator:\n",
    "    def __init__(self):\n",
    "        \"\"\"\n",
    "        This class computes the distance of any route.\n",
    "        \"\"\"\n",
    "        pass\n",
    "        \n",
    "    def score(self, route):\n",
    "        \"\"\"\n",
    "        Calculates the total distance of a route. It computes the distance as a full tour by also computing the trip\n",
    "        from the last node in the route to the first node (closed tour). The score between two nodes is computed using\n",
    "        rounded Eucledian distance.\n",
    "        \n",
    "        :param route: Route, the route to evaluate\n",
    "        \"\"\"\n",
    "        distance = 0\n",
    "        sequence = route.sequence\n",
    "        # let's loop over the route\n",
    "        for i in range(1, len(sequence)):\n",
    "            previous_city = sequence[i-1]\n",
    "            current_city = sequence[i]\n",
    "            distance += np.round(\n",
    "                sp.spatial.distance.euclidean((previous_city.x, previous_city.y), (current_city.x, current_city.y)))\n",
    "        \n",
    "        # We need to close the loop\n",
    "        first_city = route.get_first_city()\n",
    "        last_city = route.get_last_city()\n",
    "        distance += np.round(\n",
    "            sp.spatial.distance.euclidean((first_city.x, first_city.y), (last_city.x, last_city.y)))\n",
    "        return distance"
   ]
  },
  {
   "cell_type": "markdown",
   "metadata": {},
   "source": [
    "We now have most of our modelling ready, let's see how this works. \n",
    "\n",
    "Let's create our route object and city objects."
   ]
  },
  {
   "cell_type": "code",
   "execution_count": 16,
   "metadata": {},
   "outputs": [
    {
     "name": "stdout",
     "output_type": "stream",
     "text": [
      "# of cities 29\n"
     ]
    }
   ],
   "source": [
    "route = Route() #creates an empty route\n",
    "\n",
    "# let's loop over our dataset and create a city object for each row\n",
    "for index, row in tsp_dataset.iterrows():\n",
    "    route.add(City(row[\"city_id\"], row[\"x\"], row[\"y\"]))\n",
    "print(\"# of cities\", len(route.sequence))"
   ]
  },
  {
   "cell_type": "markdown",
   "metadata": {},
   "source": [
    "We can access our route through `route.sequence`. So far, so good; our modelling seems to work! Let's see how our score calculator works. "
   ]
  },
  {
   "cell_type": "code",
   "execution_count": 20,
   "metadata": {},
   "outputs": [
    {
     "name": "stdout",
     "output_type": "stream",
     "text": [
      "52284.0\n"
     ]
    }
   ],
   "source": [
    "# We build a score object\n",
    "score_calculator = ScoreCalculator()\n",
    "\n",
    "# We pass a route object to the score method, which then returns a value for the score. \n",
    "distance = score_calculator.score(route)\n",
    "print(distance)"
   ]
  },
  {
   "cell_type": "markdown",
   "metadata": {},
   "source": [
    "Alright, that works. Perhaps we are interested in visualising our result ? Let's write a function that can do that."
   ]
  },
  {
   "cell_type": "code",
   "execution_count": 29,
   "metadata": {},
   "outputs": [
    {
     "data": {
      "image/png": "[encoded data removed]",
      "text/plain": [
       "<Figure size 720x504 with 1 Axes>"
      ]
     },
     "metadata": {
      "needs_background": "light"
     },
     "output_type": "display_data"
    }
   ],
   "source": [
    "def plot_route(df, route=None):\n",
    "    fig, ax = plt.subplots(figsize=(10, 7))\n",
    "    sns.regplot(data=df, x=\"x\", y=\"y\", fit_reg=False)\n",
    "    if route is not None:\n",
    "        x_values = []\n",
    "        y_values = []\n",
    "        for city in route.sequence:\n",
    "            ax.text(city.x, city.y, int(city.id)) # add a label\n",
    "            x_values.append(city.x)\n",
    "            y_values.append(city.y)\n",
    "        \n",
    "        plt.plot(x_values, y_values)\n",
    "    plt.show()\n",
    "\n",
    "plot_route(tsp_dataset, route=route)"
   ]
  },
  {
   "cell_type": "markdown",
   "metadata": {},
   "source": [
    "Note that while the route doesn't close we do close it on our calculation, we just don't visualise it. \n",
    "\n",
    "So we have created a route that goes from city with index `1` to the city with index `29`. Obviously this is a very bad route and we can come to that conclusin easily from our plot and our score. The score is double the distance of the best route `27603`. \n",
    "\n",
    "One piece is missing in our modeling: The modeling of the problem itself."
   ]
  },
  {
   "cell_type": "code",
   "execution_count": 23,
   "metadata": {},
   "outputs": [],
   "source": [
    "# first let's create our cities and collect them in a list, we will need this later\n",
    "cities = [] \n",
    "for index, row in tsp_dataset.iterrows():\n",
    "    cities.append(City(row[\"city_id\"], row[\"x\"], row[\"y\"]))"
   ]
  },
  {
   "cell_type": "code",
   "execution_count": 25,
   "metadata": {},
   "outputs": [],
   "source": [
    "class TspProblem:\n",
    "    def __init__(self, cities, scorer=None):\n",
    "        \"\"\"\n",
    "        A representation of the tsp problem. Takes a list of cities to construct the problem.\n",
    "        \n",
    "        :param cities: List A list of City objects\n",
    "        :param scorer: ScoreCalculator a score calculator to evaluate a route on\n",
    "        \"\"\"\n",
    "        self.cities = cities\n",
    "        self.scorer = scorer\n",
    "        self._initialize()\n",
    "    \n",
    "    def _initialize(self):\n",
    "        \"\"\"\n",
    "        Initialises a random route\n",
    "        \"\"\"\n",
    "        cities = self.cities.copy()\n",
    "        np.random.shuffle(cities) # shuffles in place and does not return anything\n",
    "        route = Route()\n",
    "        for city in cities:\n",
    "            route.add(city)\n",
    "        self.route = route\n",
    "        \n",
    "    def solve(self, method=\"hill_climbing\"):\n",
    "        \"\"\"\n",
    "        Solves the tsp problem. Accepted methods are hill_climbing and tabu_search.\n",
    "        \"\"\"\n",
    "        if method == \"hill_climbing\":\n",
    "            self._run_hill_climbing()\n",
    "        elif method == \"tabu_search\":\n",
    "            self._run_tabu_search()\n",
    "        else:\n",
    "            raise NotImplementedError(method + \" is not yet supported\")\n",
    "            \n",
    "    def _run_hill_climbing(self, nr_of_iterations=10):\n",
    "        \"\"\"\n",
    "        Runs the Hill Climbing algorithm\n",
    "        \"\"\"\n",
    "        raise NotImplementedError(method + \" is not yet implemented\")\n",
    "        # Remove the raise line and implemented the hill_climbing algorithm\n",
    "        \n",
    "    def _run_tabu_search(self, nr_of_iterations=10):\n",
    "        \"\"\"\n",
    "        Runs the Tabu Search algorithm\n",
    "        \"\"\"\n",
    "        raise NotImplementedError(method + \" is not yet implemented\")\n",
    "        # Remove the raise line and implemented the tabu_search algorithm\n",
    "            \n",
    "    def visualize(self, best=False):\n",
    "        if self.route is not None:\n",
    "            if best:\n",
    "                if self.best_route is None:\n",
    "                    raise RuntimeError(\"The best route has not been set for this problem. Set this first before visualising the best route.\")\n",
    "                plot_route(tsp_dataset, self.best_route)\n",
    "            else:\n",
    "                plot_route(tsp_dataset, self.route)\n",
    "        else:\n",
    "            raise RuntimeError(\"You are trying to visualise an unitialized route. First initialise a route by calling initialise()\")\n",
    "    \n",
    "    def evaluate(self, scorer):\n",
    "        return scorer.score(self.route)"
   ]
  },
  {
   "cell_type": "markdown",
   "metadata": {},
   "source": [
    "Let's initialise our problem."
   ]
  },
  {
   "cell_type": "code",
   "execution_count": 27,
   "metadata": {},
   "outputs": [
    {
     "data": {
      "text/plain": [
       "104354.0"
      ]
     },
     "execution_count": 27,
     "metadata": {},
     "output_type": "execute_result"
    }
   ],
   "source": [
    "problem = TspProblem(cities) # we create a new 'problem' object here\n",
    "problem.evaluate(ScoreCalculator())"
   ]
  },
  {
   "cell_type": "code",
   "execution_count": 30,
   "metadata": {},
   "outputs": [
    {
     "data": {
      "image/png": "[encoded data removed]",
      "text/plain": [
       "<Figure size 720x504 with 1 Axes>"
      ]
     },
     "metadata": {
      "needs_background": "light"
     },
     "output_type": "display_data"
    }
   ],
   "source": [
    "problem.visualize()"
   ]
  },
  {
   "cell_type": "markdown",
   "metadata": {},
   "source": [
    "Okay, so if we do a random intialisation of the route , it obviously looks horrible! We want to optimise this. To do so, we want to implement two algorithms (1) Hill Climbing and (2) Tabu Search. \n",
    "\n",
    "Here are 2 links that describe the algorithms: \n",
    "* https://www.geeksforgeeks.org/introduction-hill-climbing-artificial-intelligence/\n",
    "* https://image.slidesharecdn.com/a5c35bd0-23dc-4cbf-ad1e-89d5937b4b88-150102173323-conversion-gate02/95/tabusearch-final-11-638.jpg?cb=1420220092\n",
    "\n",
    "Note that we need to implement functions that can explore the `neighbourhood` of a solution, i.e. a route. A neighbourhood is defined as a a collection of solutions, i.e. another route, that we can reach from our current solution by modifying its state. A very simple modification would be to swap the position of two cities in an already existing route.\n",
    "\n",
    "In Python we could do this as:\n",
    "\n",
    "```\n",
    "sequence = [1, 2, 3, 4, 5]\n",
    "\n",
    "def swap(index_1, index_2):\n",
    "    sequence[index_1], sequence[index_2] = sequence[index_2], sequence[index_1]\n",
    "```\n",
    "\n",
    "The code above could be a way to simply modify a sequence by swapping two cities based on two indices. The best place to impement this would be in the class `Route`. A method (function) like `def swap(self, index_1, index_2)` that does the same as the code above would modify the route in the problem. Try to implement `swap` and see if you can think of other methods to modify the route.\n",
    "\n",
    "Hint: here is an overview of neighbourhood exploring moves\n",
    "* https://en.wikipedia.org/wiki/2-opt\n",
    "* https://en.wikipedia.org/wiki/3-opt\n",
    "* https://en.wikipedia.org/wiki/Lin%E2%80%93Kernighan_heuristic"
   ]
  },
  {
   "cell_type": "markdown",
   "metadata": {},
   "source": [
    "## Your implementation\n",
    "Copy the classes above and modify them to implement the algorithms to optimise."
   ]
  },
  {
   "cell_type": "code",
   "execution_count": null,
   "metadata": {},
   "outputs": [],
   "source": []
  }
 ],
 "metadata": {
  "kernelspec": {
   "display_name": "Python 3",
   "language": "python",
   "name": "python3"
  },
  "language_info": {
   "codemirror_mode": {
    "name": "ipython",
    "version": 3
   },
   "file_extension": ".py",
   "mimetype": "text/x-python",
   "name": "python",
   "nbconvert_exporter": "python",
   "pygments_lexer": "ipython3",
   "version": "3.6.8"
  }
 },
 "nbformat": 4,
 "nbformat_minor": 2
}
